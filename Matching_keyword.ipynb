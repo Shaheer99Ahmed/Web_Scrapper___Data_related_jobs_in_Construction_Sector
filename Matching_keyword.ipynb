{
 "cells": [
  {
   "cell_type": "code",
   "execution_count": 1,
   "metadata": {},
   "outputs": [
    {
     "name": "stderr",
     "output_type": "stream",
     "text": [
      "C:\\Users\\shahe\\AppData\\Local\\Temp\\ipykernel_3716\\748694261.py:2: DeprecationWarning: \n",
      "Pyarrow will become a required dependency of pandas in the next major release of pandas (pandas 3.0),\n",
      "(to allow more performant data types, such as the Arrow string type, and better interoperability with other libraries)\n",
      "but was not found to be installed on your system.\n",
      "If this would cause problems for you,\n",
      "please provide us feedback at https://github.com/pandas-dev/pandas/issues/54466\n",
      "        \n",
      "  import pandas as pd\n"
     ]
    }
   ],
   "source": [
    "import json\n",
    "import pandas as pd"
   ]
  },
  {
   "cell_type": "code",
   "execution_count": null,
   "metadata": {},
   "outputs": [],
   "source": [
    "# Function to check if a job description contains any data related keywords\n",
    "\n",
    "def is_data_related(description, keywords):\n",
    "    matched_keywords = [keyword for keyword in keywords if keyword.lower() in description.lower()]\n",
    "    return(bool(matched_keywords), matched_keywords)\n",
    "\n",
    "# Data keywords\n",
    "\n",
    "data_science_keywords = [\n",
    "    \"Python\", \"SQL\", \"Scala\", \"MATLAB\",\n",
    "    \"Julia\", \"SAS\", \"Shell scripting\", \"Ruby\", \"Perl\",\n",
    "    \"Excel \", \"Tableau\", \"Power BI\", \"QlikView\", \"D3.js\", \"ggplot\",\n",
    "    \"Shiny\", \"Matplotlib\", \"Seaborn\", \"Plotly\",\n",
    "    \"Machine Learning\", \"Deep Learning\", \"Natural Language Processing (NLP)\",\n",
    "    \"Computer Vision\", \"Reinforcement Learning\", \"Time Series Analysis\", \"Hypothesis Testing\", \"Predictive Modeling\",\n",
    "    \"Regression Analysis\", \"Neural Networks\",\n",
    "    \"Feature Engineering\", \"Principal Component Analysis (PCA)\", \"Analyst\", \"Data Science\", \"Data Mining\",\n",
    "    \"Construction Analytics\",\"Big Data\",\"Civil Engineering Analytics\",\"Artificial Intelligence\",\"Environmental Data Analysis\",\n",
    "    \"Construction Analytics\",\"Smart Cities\",\"Infrastructure Data\",\"Sensor Data\",\"Geospatial Data\",\"Risk Analyst\",\"Data Visualization\",\n",
    "    \"Variance Analysis\",\"data management\",\"dashboards\",\"Data Warehouse\",\"ETL/ELT\",\"ETL\",\"forecasting\"\n",
    "]\n",
    "\n",
    "# load data \n",
    "with open('/content/Langan.json', 'r') as file:\n",
    "    jobs_data = json.load(file)\n",
    "\n",
    "# Convert to df\n",
    "jobs_df = pd.DataFrame(jobs_data)\n"
   ]
  }
 ],
 "metadata": {
  "kernelspec": {
   "display_name": "deep-learning",
   "language": "python",
   "name": "python3"
  },
  "language_info": {
   "codemirror_mode": {
    "name": "ipython",
    "version": 3
   },
   "file_extension": ".py",
   "mimetype": "text/x-python",
   "name": "python",
   "nbconvert_exporter": "python",
   "pygments_lexer": "ipython3",
   "version": "3.12.1"
  }
 },
 "nbformat": 4,
 "nbformat_minor": 2
}
